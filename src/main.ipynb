{
 "cells": [
  {
   "cell_type": "code",
   "execution_count": 1,
   "id": "585f1d8f-be81-421d-9697-9a8119467081",
   "metadata": {},
   "outputs": [
    {
     "name": "stdout",
     "output_type": "stream",
     "text": [
      "Importing objects modules\n",
      "Importing utils modules\n"
     ]
    }
   ],
   "source": [
    "from objects import ingestable, transformable, spark_session\n",
    "import os"
   ]
  },
  {
   "cell_type": "code",
   "execution_count": 2,
   "id": "cc37c125-cb27-4144-8008-8b23d61da87c",
   "metadata": {},
   "outputs": [],
   "source": [
    "source_name = \"bank\"\n",
    "source_format = \"csv\""
   ]
  },
  {
   "cell_type": "code",
   "execution_count": 3,
   "id": "ea989c25-c6ad-4762-94d5-ef3a912f7bf4",
   "metadata": {},
   "outputs": [],
   "source": [
    "bank_source = ingestable.ingestable(source_name, os.path.join(os.getcwd(), \"..\", \"data\", \"*\"), source_format)"
   ]
  },
  {
   "cell_type": "code",
   "execution_count": 4,
   "id": "b92997f5-d5d4-4b28-a3af-f2de079db10e",
   "metadata": {},
   "outputs": [
    {
     "name": "stdout",
     "output_type": "stream",
     "text": [
      "ingestable(bank,C:\\Users\\juanl\\OneDrive\\Documentos\\2-Workspaces\\ETL\\src\\..\\data\\*,csv)\n"
     ]
    }
   ],
   "source": [
    "print(bank_source)"
   ]
  },
  {
   "cell_type": "code",
   "execution_count": 5,
   "id": "4cd21644-9e5c-4b7c-8e56-db5efbe91789",
   "metadata": {},
   "outputs": [],
   "source": [
    "spark = spark_session.SingletonSparkSession().get_spark()"
   ]
  },
  {
   "cell_type": "code",
   "execution_count": 6,
   "id": "e6b03099-0f9f-4717-9128-2bd82ee62448",
   "metadata": {},
   "outputs": [
    {
     "data": {
      "text/html": [
       "\n",
       "            <div>\n",
       "                <p><b>SparkSession - in-memory</b></p>\n",
       "                \n",
       "        <div>\n",
       "            <p><b>SparkContext</b></p>\n",
       "\n",
       "            <p><a href=\"http://juanlu-asus:4040\">Spark UI</a></p>\n",
       "\n",
       "            <dl>\n",
       "              <dt>Version</dt>\n",
       "                <dd><code>v3.5.4</code></dd>\n",
       "              <dt>Master</dt>\n",
       "                <dd><code>local[*]</code></dd>\n",
       "              <dt>AppName</dt>\n",
       "                <dd><code>SingletonSparkApp</code></dd>\n",
       "            </dl>\n",
       "        </div>\n",
       "        \n",
       "            </div>\n",
       "        "
      ],
      "text/plain": [
       "<pyspark.sql.session.SparkSession at 0x1cf373bcb30>"
      ]
     },
     "execution_count": 6,
     "metadata": {},
     "output_type": "execute_result"
    }
   ],
   "source": [
    "spark"
   ]
  },
  {
   "cell_type": "code",
   "execution_count": 7,
   "id": "5647f381-9b7f-4730-9194-1b1d42ea15af",
   "metadata": {
    "scrolled": true
   },
   "outputs": [
    {
     "name": "stdout",
     "output_type": "stream",
     "text": [
      "Processed rows: 12000\n"
     ]
    }
   ],
   "source": [
    "bank_source.ingest(spark)"
   ]
  },
  {
   "cell_type": "code",
   "execution_count": 8,
   "id": "63ef793e-e265-49d8-9735-8b3effd6a036",
   "metadata": {},
   "outputs": [
    {
     "name": "stdout",
     "output_type": "stream",
     "text": [
      "+--------------+----------------+-------+----------------+-------------+--------------+------------+-------------------+--------+--------------------+--------------------+\n",
      "|transaction_id|transaction_date| amount|transaction_type|merchant_name|      category|account_type|           location|currency|         description|     processing_time|\n",
      "+--------------+----------------+-------+----------------+-------------+--------------+------------+-------------------+--------+--------------------+--------------------+\n",
      "|             1|       8/23/2022|4792.59|         deposit|     Gigaclub|     groceries|    checking|           Lincheng|     CNY|venenatis lacinia...|2025-02-27 22:32:...|\n",
      "|             2|        8/6/2022|9866.72|         deposit|      Jaxbean|transportation|    checking|       Wierzchucino|     PLN|varius ut blandit...|2025-02-27 22:32:...|\n",
      "|             3|       8/21/2022|7312.82|      withdrawal|      Jaxspan| entertainment|     savings|              Sondo|     IDR|luctus tincidunt ...|2025-02-27 22:32:...|\n",
      "|             4|       8/12/2022|2404.58|        transfer|      Dabfeed| entertainment|    checking|     Noisy-le-Grand|     EUR|proin interdum ma...|2025-02-27 22:32:...|\n",
      "|             5|        8/8/2022|5877.43|        transfer|    Rhynoodle|transportation| credit card|             Debesy|     RUB|tincidunt in leo ...|2025-02-27 22:32:...|\n",
      "|             6|       8/10/2022|8937.67|        transfer|        Oyope|transportation|    checking|             Jizhou|     CNY|ultrices posuere ...|2025-02-27 22:32:...|\n",
      "|             7|       8/17/2022| 793.15|        transfer|Twitternation|transportation|     savings|           Buchanan|     LRD|non interdum in a...|2025-02-27 22:32:...|\n",
      "|             8|       8/17/2022| 8650.8|         deposit|     Livetube|     utilities| credit card|             Plavsk|     RUB|hac habitasse pla...|2025-02-27 22:32:...|\n",
      "|             9|        8/9/2022|5061.44|      withdrawal|     Realcube| entertainment|     savings|           Mosteiro|     EUR|id nulla ultrices...|2025-02-27 22:32:...|\n",
      "|            10|        8/9/2022|5965.26|      withdrawal|        Jatri| entertainment|    checking|             Xiakou|     CNY|aliquam convallis...|2025-02-27 22:32:...|\n",
      "|            11|       8/10/2022|5383.54|      withdrawal|      Dabvine|transportation|     savings|            Astorga|     BRL|diam neque vestib...|2025-02-27 22:32:...|\n",
      "|            12|       8/29/2022|8595.65|         deposit|   Realbridge|transportation|    checking|             Paldit|     PHP|erat eros viverra...|2025-02-27 22:32:...|\n",
      "|            13|       8/12/2022|9862.54|      withdrawal|       Yakijo|     utilities| credit card|            Tsuyama|     JPY|id lobortis conva...|2025-02-27 22:32:...|\n",
      "|            14|       8/29/2022|7593.62|         deposit|     Linktype| entertainment|     savings|    Barrancabermeja|     COP|sapien urna preti...|2025-02-27 22:32:...|\n",
      "|            15|       8/24/2022|4102.12|        transfer|         Latz|transportation|     savings|         Norrköping|     SEK|non velit nec nis...|2025-02-27 22:32:...|\n",
      "|            16|        8/9/2022|5772.04|         deposit|     Flipopia|     utilities|    checking|Termas de Río Hondo|     ARS|sollicitudin ut s...|2025-02-27 22:32:...|\n",
      "|            17|       8/27/2022|2886.45|        transfer|   Fivebridge|     groceries|     savings|             Caraga|     PHP|lectus in quam fr...|2025-02-27 22:32:...|\n",
      "|            18|        8/3/2022|8966.86|         deposit|       Rhybox|     groceries| credit card|             Málaga|     COP|dapibus dolor vel...|2025-02-27 22:32:...|\n",
      "|            19|       8/30/2022|4292.45|      withdrawal|    Babbleset| entertainment| credit card|          Mikhaylov|     RUB|cubilia curae don...|2025-02-27 22:32:...|\n",
      "|            20|        8/9/2022|5771.42|      withdrawal|      Tagopia|     utilities|     savings|              Náklo|     CZK|sit amet sem fusc...|2025-02-27 22:32:...|\n",
      "+--------------+----------------+-------+----------------+-------------+--------------+------------+-------------------+--------+--------------------+--------------------+\n",
      "only showing top 20 rows\n",
      "\n",
      "Ingested rows 12000\n",
      "root\n",
      " |-- transaction_id: integer (nullable = true)\n",
      " |-- transaction_date: string (nullable = true)\n",
      " |-- amount: double (nullable = true)\n",
      " |-- transaction_type: string (nullable = true)\n",
      " |-- merchant_name: string (nullable = true)\n",
      " |-- category: string (nullable = true)\n",
      " |-- account_type: string (nullable = true)\n",
      " |-- location: string (nullable = true)\n",
      " |-- currency: string (nullable = true)\n",
      " |-- description: string (nullable = true)\n",
      " |-- processing_time: timestamp (nullable = false)\n",
      "\n"
     ]
    }
   ],
   "source": [
    "landing_df = spark.read.parquet(bank_source.get_landing_directory())\n",
    "landing_df.show()  # Muestra algunas filas de la tabla\n",
    "print(\"Ingested rows \" + str(landing_df.count()))\n",
    "landing_df.printSchema()  # Muestra el esquema de la tabla"
   ]
  },
  {
   "cell_type": "code",
   "execution_count": 9,
   "id": "c52dda88-d101-43ce-a447-dcebb5511e69",
   "metadata": {},
   "outputs": [],
   "source": [
    "bronze_transform = transformable.transformable(source_name, landing_df, \"bronze\")\n",
    "bronze_transform.run()"
   ]
  },
  {
   "cell_type": "code",
   "execution_count": 10,
   "id": "a0b8b863-b2d7-49c1-8df0-37ed870c9cad",
   "metadata": {},
   "outputs": [
    {
     "name": "stdout",
     "output_type": "stream",
     "text": [
      "+--------------+----------------+-------+----------------+-------------+--------------+------------+-------------------+--------+--------------------+--------------------+\n",
      "|transaction_id|transaction_date| amount|transaction_type|merchant_name|      category|account_type|           location|currency|         description|     processing_time|\n",
      "+--------------+----------------+-------+----------------+-------------+--------------+------------+-------------------+--------+--------------------+--------------------+\n",
      "|             1|       8/23/2022|4792.59|         deposit|     Gigaclub|     groceries|    checking|           Lincheng|     CNY|venenatis lacinia...|2025-02-27 22:32:...|\n",
      "|             2|        8/6/2022|9866.72|         deposit|      Jaxbean|transportation|    checking|       Wierzchucino|     PLN|varius ut blandit...|2025-02-27 22:32:...|\n",
      "|             3|       8/21/2022|7312.82|      withdrawal|      Jaxspan| entertainment|     savings|              Sondo|     IDR|luctus tincidunt ...|2025-02-27 22:32:...|\n",
      "|             4|       8/12/2022|2404.58|        transfer|      Dabfeed| entertainment|    checking|     Noisy-le-Grand|     EUR|proin interdum ma...|2025-02-27 22:32:...|\n",
      "|             5|        8/8/2022|5877.43|        transfer|    Rhynoodle|transportation| credit card|             Debesy|     RUB|tincidunt in leo ...|2025-02-27 22:32:...|\n",
      "|             6|       8/10/2022|8937.67|        transfer|        Oyope|transportation|    checking|             Jizhou|     CNY|ultrices posuere ...|2025-02-27 22:32:...|\n",
      "|             7|       8/17/2022| 793.15|        transfer|Twitternation|transportation|     savings|           Buchanan|     LRD|non interdum in a...|2025-02-27 22:32:...|\n",
      "|             8|       8/17/2022| 8650.8|         deposit|     Livetube|     utilities| credit card|             Plavsk|     RUB|hac habitasse pla...|2025-02-27 22:32:...|\n",
      "|             9|        8/9/2022|5061.44|      withdrawal|     Realcube| entertainment|     savings|           Mosteiro|     EUR|id nulla ultrices...|2025-02-27 22:32:...|\n",
      "|            10|        8/9/2022|5965.26|      withdrawal|        Jatri| entertainment|    checking|             Xiakou|     CNY|aliquam convallis...|2025-02-27 22:32:...|\n",
      "|            11|       8/10/2022|5383.54|      withdrawal|      Dabvine|transportation|     savings|            Astorga|     BRL|diam neque vestib...|2025-02-27 22:32:...|\n",
      "|            12|       8/29/2022|8595.65|         deposit|   Realbridge|transportation|    checking|             Paldit|     PHP|erat eros viverra...|2025-02-27 22:32:...|\n",
      "|            13|       8/12/2022|9862.54|      withdrawal|       Yakijo|     utilities| credit card|            Tsuyama|     JPY|id lobortis conva...|2025-02-27 22:32:...|\n",
      "|            14|       8/29/2022|7593.62|         deposit|     Linktype| entertainment|     savings|    Barrancabermeja|     COP|sapien urna preti...|2025-02-27 22:32:...|\n",
      "|            15|       8/24/2022|4102.12|        transfer|         Latz|transportation|     savings|         Norrköping|     SEK|non velit nec nis...|2025-02-27 22:32:...|\n",
      "|            16|        8/9/2022|5772.04|         deposit|     Flipopia|     utilities|    checking|Termas de Río Hondo|     ARS|sollicitudin ut s...|2025-02-27 22:32:...|\n",
      "|            17|       8/27/2022|2886.45|        transfer|   Fivebridge|     groceries|     savings|             Caraga|     PHP|lectus in quam fr...|2025-02-27 22:32:...|\n",
      "|            18|        8/3/2022|8966.86|         deposit|       Rhybox|     groceries| credit card|             Málaga|     COP|dapibus dolor vel...|2025-02-27 22:32:...|\n",
      "|            19|       8/30/2022|4292.45|      withdrawal|    Babbleset| entertainment| credit card|          Mikhaylov|     RUB|cubilia curae don...|2025-02-27 22:32:...|\n",
      "|            20|        8/9/2022|5771.42|      withdrawal|      Tagopia|     utilities|     savings|              Náklo|     CZK|sit amet sem fusc...|2025-02-27 22:32:...|\n",
      "+--------------+----------------+-------+----------------+-------------+--------------+------------+-------------------+--------+--------------------+--------------------+\n",
      "only showing top 20 rows\n",
      "\n",
      "Ingested rows 12000\n",
      "root\n",
      " |-- transaction_id: integer (nullable = true)\n",
      " |-- transaction_date: string (nullable = true)\n",
      " |-- amount: double (nullable = true)\n",
      " |-- transaction_type: string (nullable = true)\n",
      " |-- merchant_name: string (nullable = true)\n",
      " |-- category: string (nullable = true)\n",
      " |-- account_type: string (nullable = true)\n",
      " |-- location: string (nullable = true)\n",
      " |-- currency: string (nullable = true)\n",
      " |-- description: string (nullable = true)\n",
      " |-- processing_time: timestamp (nullable = true)\n",
      "\n"
     ]
    }
   ],
   "source": [
    "bronze_df = spark.read.parquet(bronze_transform.get_target_directory())\n",
    "bronze_df.show()  # Muestra algunas filas de la tabla\n",
    "print(\"Ingested rows \" + str(bronze_df.count()))\n",
    "bronze_df.printSchema()  # Muestra el esquema de la tabla"
   ]
  },
  {
   "cell_type": "code",
   "execution_count": 11,
   "id": "c6d61da6-a2c5-44fa-9233-2254dd2a6814",
   "metadata": {},
   "outputs": [],
   "source": [
    "silver_transform = transformable.transformable(source_name, bronze_df, \"silver\")\n",
    "silver_transform.run()"
   ]
  },
  {
   "cell_type": "code",
   "execution_count": 12,
   "id": "812661d8-0231-479a-83bb-2ff677728c32",
   "metadata": {},
   "outputs": [
    {
     "ename": "AnalysisException",
     "evalue": "[PATH_NOT_FOUND] Path does not exist: file:/C:/Users/juanl/OneDrive/Documentos/2-Workspaces/ETL/silver/bank.",
     "output_type": "error",
     "traceback": [
      "\u001b[1;31m---------------------------------------------------------------------------\u001b[0m",
      "\u001b[1;31mAnalysisException\u001b[0m                         Traceback (most recent call last)",
      "Cell \u001b[1;32mIn[12], line 1\u001b[0m\n\u001b[1;32m----> 1\u001b[0m silver_df \u001b[38;5;241m=\u001b[39m \u001b[43mspark\u001b[49m\u001b[38;5;241;43m.\u001b[39;49m\u001b[43mread\u001b[49m\u001b[38;5;241;43m.\u001b[39;49m\u001b[43mparquet\u001b[49m\u001b[43m(\u001b[49m\u001b[43msilver_transform\u001b[49m\u001b[38;5;241;43m.\u001b[39;49m\u001b[43mget_target_directory\u001b[49m\u001b[43m(\u001b[49m\u001b[43m)\u001b[49m\u001b[43m)\u001b[49m\n\u001b[0;32m      2\u001b[0m silver_df\u001b[38;5;241m.\u001b[39mshow()  \u001b[38;5;66;03m# Muestra algunas filas de la tabla\u001b[39;00m\n\u001b[0;32m      3\u001b[0m \u001b[38;5;28mprint\u001b[39m(\u001b[38;5;124m\"\u001b[39m\u001b[38;5;124mIngested rows \u001b[39m\u001b[38;5;124m\"\u001b[39m \u001b[38;5;241m+\u001b[39m \u001b[38;5;28mstr\u001b[39m(silver_df\u001b[38;5;241m.\u001b[39mcount()))\n",
      "File \u001b[1;32m~\\OneDrive\\Documentos\\2-Workspaces\\ETL\\.env\\Lib\\site-packages\\pyspark\\sql\\readwriter.py:544\u001b[0m, in \u001b[0;36mDataFrameReader.parquet\u001b[1;34m(self, *paths, **options)\u001b[0m\n\u001b[0;32m    533\u001b[0m int96RebaseMode \u001b[38;5;241m=\u001b[39m options\u001b[38;5;241m.\u001b[39mget(\u001b[38;5;124m\"\u001b[39m\u001b[38;5;124mint96RebaseMode\u001b[39m\u001b[38;5;124m\"\u001b[39m, \u001b[38;5;28;01mNone\u001b[39;00m)\n\u001b[0;32m    534\u001b[0m \u001b[38;5;28mself\u001b[39m\u001b[38;5;241m.\u001b[39m_set_opts(\n\u001b[0;32m    535\u001b[0m     mergeSchema\u001b[38;5;241m=\u001b[39mmergeSchema,\n\u001b[0;32m    536\u001b[0m     pathGlobFilter\u001b[38;5;241m=\u001b[39mpathGlobFilter,\n\u001b[1;32m   (...)\u001b[0m\n\u001b[0;32m    541\u001b[0m     int96RebaseMode\u001b[38;5;241m=\u001b[39mint96RebaseMode,\n\u001b[0;32m    542\u001b[0m )\n\u001b[1;32m--> 544\u001b[0m \u001b[38;5;28;01mreturn\u001b[39;00m \u001b[38;5;28mself\u001b[39m\u001b[38;5;241m.\u001b[39m_df(\u001b[38;5;28;43mself\u001b[39;49m\u001b[38;5;241;43m.\u001b[39;49m\u001b[43m_jreader\u001b[49m\u001b[38;5;241;43m.\u001b[39;49m\u001b[43mparquet\u001b[49m\u001b[43m(\u001b[49m\u001b[43m_to_seq\u001b[49m\u001b[43m(\u001b[49m\u001b[38;5;28;43mself\u001b[39;49m\u001b[38;5;241;43m.\u001b[39;49m\u001b[43m_spark\u001b[49m\u001b[38;5;241;43m.\u001b[39;49m\u001b[43m_sc\u001b[49m\u001b[43m,\u001b[49m\u001b[43m \u001b[49m\u001b[43mpaths\u001b[49m\u001b[43m)\u001b[49m\u001b[43m)\u001b[49m)\n",
      "File \u001b[1;32m~\\OneDrive\\Documentos\\2-Workspaces\\ETL\\.env\\Lib\\site-packages\\py4j\\java_gateway.py:1322\u001b[0m, in \u001b[0;36mJavaMember.__call__\u001b[1;34m(self, *args)\u001b[0m\n\u001b[0;32m   1316\u001b[0m command \u001b[38;5;241m=\u001b[39m proto\u001b[38;5;241m.\u001b[39mCALL_COMMAND_NAME \u001b[38;5;241m+\u001b[39m\\\n\u001b[0;32m   1317\u001b[0m     \u001b[38;5;28mself\u001b[39m\u001b[38;5;241m.\u001b[39mcommand_header \u001b[38;5;241m+\u001b[39m\\\n\u001b[0;32m   1318\u001b[0m     args_command \u001b[38;5;241m+\u001b[39m\\\n\u001b[0;32m   1319\u001b[0m     proto\u001b[38;5;241m.\u001b[39mEND_COMMAND_PART\n\u001b[0;32m   1321\u001b[0m answer \u001b[38;5;241m=\u001b[39m \u001b[38;5;28mself\u001b[39m\u001b[38;5;241m.\u001b[39mgateway_client\u001b[38;5;241m.\u001b[39msend_command(command)\n\u001b[1;32m-> 1322\u001b[0m return_value \u001b[38;5;241m=\u001b[39m \u001b[43mget_return_value\u001b[49m\u001b[43m(\u001b[49m\n\u001b[0;32m   1323\u001b[0m \u001b[43m    \u001b[49m\u001b[43manswer\u001b[49m\u001b[43m,\u001b[49m\u001b[43m \u001b[49m\u001b[38;5;28;43mself\u001b[39;49m\u001b[38;5;241;43m.\u001b[39;49m\u001b[43mgateway_client\u001b[49m\u001b[43m,\u001b[49m\u001b[43m \u001b[49m\u001b[38;5;28;43mself\u001b[39;49m\u001b[38;5;241;43m.\u001b[39;49m\u001b[43mtarget_id\u001b[49m\u001b[43m,\u001b[49m\u001b[43m \u001b[49m\u001b[38;5;28;43mself\u001b[39;49m\u001b[38;5;241;43m.\u001b[39;49m\u001b[43mname\u001b[49m\u001b[43m)\u001b[49m\n\u001b[0;32m   1325\u001b[0m \u001b[38;5;28;01mfor\u001b[39;00m temp_arg \u001b[38;5;129;01min\u001b[39;00m temp_args:\n\u001b[0;32m   1326\u001b[0m     \u001b[38;5;28;01mif\u001b[39;00m \u001b[38;5;28mhasattr\u001b[39m(temp_arg, \u001b[38;5;124m\"\u001b[39m\u001b[38;5;124m_detach\u001b[39m\u001b[38;5;124m\"\u001b[39m):\n",
      "File \u001b[1;32m~\\OneDrive\\Documentos\\2-Workspaces\\ETL\\.env\\Lib\\site-packages\\pyspark\\errors\\exceptions\\captured.py:185\u001b[0m, in \u001b[0;36mcapture_sql_exception.<locals>.deco\u001b[1;34m(*a, **kw)\u001b[0m\n\u001b[0;32m    181\u001b[0m converted \u001b[38;5;241m=\u001b[39m convert_exception(e\u001b[38;5;241m.\u001b[39mjava_exception)\n\u001b[0;32m    182\u001b[0m \u001b[38;5;28;01mif\u001b[39;00m \u001b[38;5;129;01mnot\u001b[39;00m \u001b[38;5;28misinstance\u001b[39m(converted, UnknownException):\n\u001b[0;32m    183\u001b[0m     \u001b[38;5;66;03m# Hide where the exception came from that shows a non-Pythonic\u001b[39;00m\n\u001b[0;32m    184\u001b[0m     \u001b[38;5;66;03m# JVM exception message.\u001b[39;00m\n\u001b[1;32m--> 185\u001b[0m     \u001b[38;5;28;01mraise\u001b[39;00m converted \u001b[38;5;28;01mfrom\u001b[39;00m\u001b[38;5;250m \u001b[39m\u001b[38;5;28;01mNone\u001b[39;00m\n\u001b[0;32m    186\u001b[0m \u001b[38;5;28;01melse\u001b[39;00m:\n\u001b[0;32m    187\u001b[0m     \u001b[38;5;28;01mraise\u001b[39;00m\n",
      "\u001b[1;31mAnalysisException\u001b[0m: [PATH_NOT_FOUND] Path does not exist: file:/C:/Users/juanl/OneDrive/Documentos/2-Workspaces/ETL/silver/bank."
     ]
    }
   ],
   "source": [
    "silver_df = spark.read.parquet(silver_transform.get_target_directory())\n",
    "silver_df.show()  # Muestra algunas filas de la tabla\n",
    "print(\"Ingested rows \" + str(silver_df.count()))\n",
    "silver_df.printSchema()  # Muestra el esquema de la tabla"
   ]
  },
  {
   "cell_type": "code",
   "execution_count": null,
   "id": "164c17b5-b214-4f73-b955-3a3c5f8bd61a",
   "metadata": {},
   "outputs": [],
   "source": [
    "bank_source.clear_checkpoint()"
   ]
  },
  {
   "cell_type": "code",
   "execution_count": null,
   "id": "bef349c3-f645-4022-b689-5f9016aaa583",
   "metadata": {},
   "outputs": [],
   "source": []
  }
 ],
 "metadata": {
  "kernelspec": {
   "display_name": "Python 3 (ipykernel)",
   "language": "python",
   "name": "python3"
  },
  "language_info": {
   "codemirror_mode": {
    "name": "ipython",
    "version": 3
   },
   "file_extension": ".py",
   "mimetype": "text/x-python",
   "name": "python",
   "nbconvert_exporter": "python",
   "pygments_lexer": "ipython3",
   "version": "3.12.2"
  }
 },
 "nbformat": 4,
 "nbformat_minor": 5
}
